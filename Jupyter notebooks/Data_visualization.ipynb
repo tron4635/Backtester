{
 "cells": [
  {
   "cell_type": "code",
   "execution_count": 1,
   "id": "85bcc028-4420-450a-a49e-9d49d688cda6",
   "metadata": {},
   "outputs": [
    {
     "name": "stdout",
     "output_type": "stream",
     "text": [
      "<class 'pandas.core.frame.DataFrame'>\n",
      "DatetimeIndex: 8339011 entries, 2020-01-12 22:00:00.499000 to 2020-02-07 21:58:54.753000\n",
      "Data columns (total 2 columns):\n",
      " #   Column  Dtype  \n",
      "---  ------  -----  \n",
      " 0   Bid     float64\n",
      " 1   Ask     float64\n",
      "dtypes: float64(2)\n",
      "memory usage: 190.9 MB\n"
     ]
    }
   ],
   "source": [
    "import pandas as pd\n",
    "import time\n",
    "directory = \"../Data/HDF5/FxTickData.h5\"\n",
    "df = pd.read_hdf(directory)\n",
    "df.info()"
   ]
  },
  {
   "cell_type": "code",
   "execution_count": 2,
   "id": "086320bc-2fc7-47d2-8fc6-5bae963a68fd",
   "metadata": {},
   "outputs": [
    {
     "name": "stdout",
     "output_type": "stream",
     "text": [
      "<class 'pandas.core.indexes.datetimes.DatetimeIndex'>\n"
     ]
    }
   ],
   "source": [
    "print(type(df.index))\n",
    "#df.index = pd.to_datetime(df.index)"
   ]
  },
  {
   "cell_type": "code",
   "execution_count": 3,
   "id": "6c44d98e-7f23-451c-b2df-f2bf3017e46c",
   "metadata": {},
   "outputs": [],
   "source": [
    "df = df.sort_index()"
   ]
  },
  {
   "cell_type": "code",
   "execution_count": 4,
   "id": "32bee110-0d6a-49aa-8152-e63b573e0436",
   "metadata": {},
   "outputs": [],
   "source": [
    "#df[\"date\"] = df.index.date"
   ]
  },
  {
   "cell_type": "code",
   "execution_count": 4,
   "id": "9075ad32-a78a-4708-ab5c-7ba230a1eb7b",
   "metadata": {},
   "outputs": [
    {
     "data": {
      "text/html": [
       "<div>\n",
       "<style scoped>\n",
       "    .dataframe tbody tr th:only-of-type {\n",
       "        vertical-align: middle;\n",
       "    }\n",
       "\n",
       "    .dataframe tbody tr th {\n",
       "        vertical-align: top;\n",
       "    }\n",
       "\n",
       "    .dataframe thead th {\n",
       "        text-align: right;\n",
       "    }\n",
       "</style>\n",
       "<table border=\"1\" class=\"dataframe\">\n",
       "  <thead>\n",
       "    <tr style=\"text-align: right;\">\n",
       "      <th></th>\n",
       "      <th>Bid</th>\n",
       "      <th>Ask</th>\n",
       "    </tr>\n",
       "    <tr>\n",
       "      <th>DateTime</th>\n",
       "      <th></th>\n",
       "      <th></th>\n",
       "    </tr>\n",
       "  </thead>\n",
       "  <tbody>\n",
       "    <tr>\n",
       "      <th>2020-01-05 22:02:02.577</th>\n",
       "      <td>1.04218</td>\n",
       "      <td>1.04281</td>\n",
       "    </tr>\n",
       "    <tr>\n",
       "      <th>2020-01-05 22:03:12.557</th>\n",
       "      <td>1.04223</td>\n",
       "      <td>1.04282</td>\n",
       "    </tr>\n",
       "    <tr>\n",
       "      <th>2020-01-05 22:03:12.907</th>\n",
       "      <td>1.04218</td>\n",
       "      <td>1.04282</td>\n",
       "    </tr>\n",
       "    <tr>\n",
       "      <th>2020-01-05 22:03:16.232</th>\n",
       "      <td>1.04218</td>\n",
       "      <td>1.04278</td>\n",
       "    </tr>\n",
       "    <tr>\n",
       "      <th>2020-01-05 22:03:23.582</th>\n",
       "      <td>1.04218</td>\n",
       "      <td>1.04281</td>\n",
       "    </tr>\n",
       "    <tr>\n",
       "      <th>2020-01-05 22:03:24.084</th>\n",
       "      <td>1.04218</td>\n",
       "      <td>1.04274</td>\n",
       "    </tr>\n",
       "    <tr>\n",
       "      <th>2020-01-05 22:03:31.032</th>\n",
       "      <td>1.04218</td>\n",
       "      <td>1.04281</td>\n",
       "    </tr>\n",
       "    <tr>\n",
       "      <th>2020-01-05 22:03:42.032</th>\n",
       "      <td>1.04203</td>\n",
       "      <td>1.04281</td>\n",
       "    </tr>\n",
       "    <tr>\n",
       "      <th>2020-01-05 22:03:43.057</th>\n",
       "      <td>1.04208</td>\n",
       "      <td>1.04281</td>\n",
       "    </tr>\n",
       "    <tr>\n",
       "      <th>2020-01-05 22:03:45.057</th>\n",
       "      <td>1.04213</td>\n",
       "      <td>1.04281</td>\n",
       "    </tr>\n",
       "  </tbody>\n",
       "</table>\n",
       "</div>"
      ],
      "text/plain": [
       "                             Bid      Ask\n",
       "DateTime                                 \n",
       "2020-01-05 22:02:02.577  1.04218  1.04281\n",
       "2020-01-05 22:03:12.557  1.04223  1.04282\n",
       "2020-01-05 22:03:12.907  1.04218  1.04282\n",
       "2020-01-05 22:03:16.232  1.04218  1.04278\n",
       "2020-01-05 22:03:23.582  1.04218  1.04281\n",
       "2020-01-05 22:03:24.084  1.04218  1.04274\n",
       "2020-01-05 22:03:31.032  1.04218  1.04281\n",
       "2020-01-05 22:03:42.032  1.04203  1.04281\n",
       "2020-01-05 22:03:43.057  1.04208  1.04281\n",
       "2020-01-05 22:03:45.057  1.04213  1.04281"
      ]
     },
     "execution_count": 4,
     "metadata": {},
     "output_type": "execute_result"
    }
   ],
   "source": [
    "df.head(n=10)"
   ]
  },
  {
   "cell_type": "code",
   "execution_count": 5,
   "id": "86dabc85-19b1-46ba-8ac2-5f997e5bbf66",
   "metadata": {},
   "outputs": [
    {
     "name": "stdout",
     "output_type": "stream",
     "text": [
      "                             Bid      Ask\n",
      "DateTime                                 \n",
      "2020-01-09 00:00:00.511  1.03325  1.03331\n",
      "2020-01-09 00:00:00.934  1.03325  1.03330\n",
      "2020-01-09 00:00:00.941  1.03321  1.03330\n",
      "2020-01-09 00:00:01.188  1.03323  1.03330\n",
      "2020-01-09 00:00:01.201  1.03323  1.03329\n",
      "...                          ...      ...\n",
      "2020-01-09 23:59:56.522  1.03726  1.03735\n",
      "2020-01-09 23:59:56.697  1.03726  1.03732\n",
      "2020-01-09 23:59:56.918  1.03726  1.03733\n",
      "2020-01-09 23:59:56.956  1.03727  1.03733\n",
      "2020-01-09 23:59:58.736  1.03727  1.03735\n",
      "\n",
      "[142911 rows x 2 columns]\n"
     ]
    }
   ],
   "source": [
    "import datetime\n",
    "#df.loc[datetime.date(year=2020,month=1,day=9):datetime.date(year=2020,month=1,day=9)]\n",
    "print(df.loc['2020-1-9':'2020-1-9'])\n",
    "#print example of one day of prices"
   ]
  },
  {
   "cell_type": "code",
   "execution_count": 6,
   "id": "26d103f6-3dc0-4ab9-a937-1619a1358911",
   "metadata": {},
   "outputs": [
    {
     "name": "stdout",
     "output_type": "stream",
     "text": [
      "--- 0.6956038475036621 seconds ---\n"
     ]
    }
   ],
   "source": [
    "#df['spread'] = df.apply(lambda row: ((row.Ask / row.Bid)-1)*1000000, axis=1)\n",
    "#start_time = time.time()\n",
    "# calculate mid prices\n",
    "#df['mid'] = df.apply(lambda row: ((row.Ask + row.Bid) / 2), axis=1)\n",
    "#print(\"--- %s seconds ---\" % (time.time() - start_time))\n",
    "\n",
    "###### -----> lambda in this case is super slow and takes about 1150 seconds vs\n",
    "###### -----> vs 7 seconds for the version below\n",
    "\n",
    "start_time = time.time()\n",
    "# calculate mid prices\n",
    "sum_column = (df[\"Bid\"] + df[\"Ask\"])/2\n",
    "df[\"mid\"] = sum_column\n",
    "print(\"--- %s seconds ---\" % (time.time() - start_time))"
   ]
  },
  {
   "cell_type": "code",
   "execution_count": 7,
   "id": "0df98db2-325f-4147-97c9-3d044c267230",
   "metadata": {},
   "outputs": [
    {
     "name": "stdout",
     "output_type": "stream",
     "text": [
      "                             Bid      Ask       mid\n",
      "DateTime                                           \n",
      "2020-01-23 00:00:00.039  1.03739  1.03747  1.037430\n",
      "2020-01-23 00:00:00.055  1.03735  1.03747  1.037410\n",
      "2020-01-23 00:00:00.164  1.03735  1.03745  1.037400\n",
      "2020-01-23 00:00:00.342  1.03735  1.03747  1.037410\n",
      "2020-01-23 00:00:00.345  1.03736  1.03747  1.037415\n",
      "...                          ...      ...       ...\n",
      "2020-01-23 23:59:59.794  1.03475  1.03484  1.034795\n",
      "2020-01-23 23:59:59.833  1.03475  1.03485  1.034800\n",
      "2020-01-23 23:59:59.900  1.03475  1.03484  1.034795\n",
      "2020-01-23 23:59:59.915  1.03475  1.03480  1.034775\n",
      "2020-01-23 23:59:59.934  1.03474  1.03484  1.034790\n",
      "\n",
      "[200694 rows x 3 columns]\n"
     ]
    }
   ],
   "source": [
    "print(df.loc['2020-1-23'])\n",
    "# print example date"
   ]
  },
  {
   "cell_type": "code",
   "execution_count": 8,
   "id": "0eb7ad1d-324d-4701-8d98-df9cae121049",
   "metadata": {},
   "outputs": [],
   "source": [
    "# drop columns to leave only mid\n",
    "df = df.drop('Bid', 1)\n",
    "df = df.drop('Ask', 1)"
   ]
  },
  {
   "cell_type": "code",
   "execution_count": 9,
   "id": "485578ce-b460-4091-885d-2a71e65d0462",
   "metadata": {},
   "outputs": [
    {
     "data": {
      "text/html": [
       "<div>\n",
       "<style scoped>\n",
       "    .dataframe tbody tr th:only-of-type {\n",
       "        vertical-align: middle;\n",
       "    }\n",
       "\n",
       "    .dataframe tbody tr th {\n",
       "        vertical-align: top;\n",
       "    }\n",
       "\n",
       "    .dataframe thead th {\n",
       "        text-align: right;\n",
       "    }\n",
       "</style>\n",
       "<table border=\"1\" class=\"dataframe\">\n",
       "  <thead>\n",
       "    <tr style=\"text-align: right;\">\n",
       "      <th></th>\n",
       "      <th>mid</th>\n",
       "    </tr>\n",
       "    <tr>\n",
       "      <th>DateTime</th>\n",
       "      <th></th>\n",
       "    </tr>\n",
       "  </thead>\n",
       "  <tbody>\n",
       "    <tr>\n",
       "      <th>2020-01-05 22:02:02.577</th>\n",
       "      <td>1.042495</td>\n",
       "    </tr>\n",
       "    <tr>\n",
       "      <th>2020-01-05 22:03:12.557</th>\n",
       "      <td>1.042525</td>\n",
       "    </tr>\n",
       "    <tr>\n",
       "      <th>2020-01-05 22:03:12.907</th>\n",
       "      <td>1.042500</td>\n",
       "    </tr>\n",
       "    <tr>\n",
       "      <th>2020-01-05 22:03:16.232</th>\n",
       "      <td>1.042480</td>\n",
       "    </tr>\n",
       "    <tr>\n",
       "      <th>2020-01-05 22:03:23.582</th>\n",
       "      <td>1.042495</td>\n",
       "    </tr>\n",
       "    <tr>\n",
       "      <th>2020-01-05 22:03:24.084</th>\n",
       "      <td>1.042460</td>\n",
       "    </tr>\n",
       "    <tr>\n",
       "      <th>2020-01-05 22:03:31.032</th>\n",
       "      <td>1.042495</td>\n",
       "    </tr>\n",
       "    <tr>\n",
       "      <th>2020-01-05 22:03:42.032</th>\n",
       "      <td>1.042420</td>\n",
       "    </tr>\n",
       "    <tr>\n",
       "      <th>2020-01-05 22:03:43.057</th>\n",
       "      <td>1.042445</td>\n",
       "    </tr>\n",
       "    <tr>\n",
       "      <th>2020-01-05 22:03:45.057</th>\n",
       "      <td>1.042470</td>\n",
       "    </tr>\n",
       "  </tbody>\n",
       "</table>\n",
       "</div>"
      ],
      "text/plain": [
       "                              mid\n",
       "DateTime                         \n",
       "2020-01-05 22:02:02.577  1.042495\n",
       "2020-01-05 22:03:12.557  1.042525\n",
       "2020-01-05 22:03:12.907  1.042500\n",
       "2020-01-05 22:03:16.232  1.042480\n",
       "2020-01-05 22:03:23.582  1.042495\n",
       "2020-01-05 22:03:24.084  1.042460\n",
       "2020-01-05 22:03:31.032  1.042495\n",
       "2020-01-05 22:03:42.032  1.042420\n",
       "2020-01-05 22:03:43.057  1.042445\n",
       "2020-01-05 22:03:45.057  1.042470"
      ]
     },
     "execution_count": 9,
     "metadata": {},
     "output_type": "execute_result"
    }
   ],
   "source": [
    "df.head(n=10)"
   ]
  },
  {
   "cell_type": "code",
   "execution_count": 10,
   "id": "6e8ce259-e81b-49ce-9edf-8e9a59b1fdaa",
   "metadata": {
    "tags": []
   },
   "outputs": [
    {
     "data": {
      "text/html": [
       "<div>\n",
       "<style scoped>\n",
       "    .dataframe tbody tr th:only-of-type {\n",
       "        vertical-align: middle;\n",
       "    }\n",
       "\n",
       "    .dataframe tbody tr th {\n",
       "        vertical-align: top;\n",
       "    }\n",
       "\n",
       "    .dataframe thead tr th {\n",
       "        text-align: left;\n",
       "    }\n",
       "\n",
       "    .dataframe thead tr:last-of-type th {\n",
       "        text-align: right;\n",
       "    }\n",
       "</style>\n",
       "<table border=\"1\" class=\"dataframe\">\n",
       "  <thead>\n",
       "    <tr>\n",
       "      <th></th>\n",
       "      <th colspan=\"4\" halign=\"left\">mid</th>\n",
       "    </tr>\n",
       "    <tr>\n",
       "      <th></th>\n",
       "      <th>open</th>\n",
       "      <th>high</th>\n",
       "      <th>low</th>\n",
       "      <th>close</th>\n",
       "    </tr>\n",
       "    <tr>\n",
       "      <th>DateTime</th>\n",
       "      <th></th>\n",
       "      <th></th>\n",
       "      <th></th>\n",
       "      <th></th>\n",
       "    </tr>\n",
       "  </thead>\n",
       "  <tbody>\n",
       "    <tr>\n",
       "      <th>2020-01-05</th>\n",
       "      <td>1.042495</td>\n",
       "      <td>1.043540</td>\n",
       "      <td>1.042085</td>\n",
       "      <td>1.043485</td>\n",
       "    </tr>\n",
       "    <tr>\n",
       "      <th>2020-01-06</th>\n",
       "      <td>1.043480</td>\n",
       "      <td>1.044105</td>\n",
       "      <td>1.039325</td>\n",
       "      <td>1.040300</td>\n",
       "    </tr>\n",
       "    <tr>\n",
       "      <th>2020-01-07</th>\n",
       "      <td>1.040310</td>\n",
       "      <td>1.041020</td>\n",
       "      <td>1.033280</td>\n",
       "      <td>1.034515</td>\n",
       "    </tr>\n",
       "    <tr>\n",
       "      <th>2020-01-08</th>\n",
       "      <td>1.034525</td>\n",
       "      <td>1.036150</td>\n",
       "      <td>1.031585</td>\n",
       "      <td>1.033275</td>\n",
       "    </tr>\n",
       "    <tr>\n",
       "      <th>2020-01-09</th>\n",
       "      <td>1.033280</td>\n",
       "      <td>1.038605</td>\n",
       "      <td>1.032735</td>\n",
       "      <td>1.037310</td>\n",
       "    </tr>\n",
       "  </tbody>\n",
       "</table>\n",
       "</div>"
      ],
      "text/plain": [
       "                 mid                              \n",
       "                open      high       low     close\n",
       "DateTime                                          \n",
       "2020-01-05  1.042495  1.043540  1.042085  1.043485\n",
       "2020-01-06  1.043480  1.044105  1.039325  1.040300\n",
       "2020-01-07  1.040310  1.041020  1.033280  1.034515\n",
       "2020-01-08  1.034525  1.036150  1.031585  1.033275\n",
       "2020-01-09  1.033280  1.038605  1.032735  1.037310"
      ]
     },
     "execution_count": 10,
     "metadata": {},
     "output_type": "execute_result"
    }
   ],
   "source": [
    "ohlc = df.resample('D').ohlc()\n",
    "ohlc.head()"
   ]
  },
  {
   "cell_type": "code",
   "execution_count": 11,
   "id": "66d45e4e-8560-4a55-8911-05723128171d",
   "metadata": {},
   "outputs": [
    {
     "data": {
      "text/html": [
       "<div>\n",
       "<style scoped>\n",
       "    .dataframe tbody tr th:only-of-type {\n",
       "        vertical-align: middle;\n",
       "    }\n",
       "\n",
       "    .dataframe tbody tr th {\n",
       "        vertical-align: top;\n",
       "    }\n",
       "\n",
       "    .dataframe thead tr th {\n",
       "        text-align: left;\n",
       "    }\n",
       "\n",
       "    .dataframe thead tr:last-of-type th {\n",
       "        text-align: right;\n",
       "    }\n",
       "</style>\n",
       "<table border=\"1\" class=\"dataframe\">\n",
       "  <thead>\n",
       "    <tr>\n",
       "      <th></th>\n",
       "      <th>mid</th>\n",
       "    </tr>\n",
       "    <tr>\n",
       "      <th></th>\n",
       "      <th>close</th>\n",
       "    </tr>\n",
       "    <tr>\n",
       "      <th>DateTime</th>\n",
       "      <th></th>\n",
       "    </tr>\n",
       "  </thead>\n",
       "  <tbody>\n",
       "    <tr>\n",
       "      <th>2020-01-05</th>\n",
       "      <td>1.043485</td>\n",
       "    </tr>\n",
       "    <tr>\n",
       "      <th>2020-01-06</th>\n",
       "      <td>1.040300</td>\n",
       "    </tr>\n",
       "    <tr>\n",
       "      <th>2020-01-07</th>\n",
       "      <td>1.034515</td>\n",
       "    </tr>\n",
       "    <tr>\n",
       "      <th>2020-01-08</th>\n",
       "      <td>1.033275</td>\n",
       "    </tr>\n",
       "    <tr>\n",
       "      <th>2020-01-09</th>\n",
       "      <td>1.037310</td>\n",
       "    </tr>\n",
       "  </tbody>\n",
       "</table>\n",
       "</div>"
      ],
      "text/plain": [
       "                 mid\n",
       "               close\n",
       "DateTime            \n",
       "2020-01-05  1.043485\n",
       "2020-01-06  1.040300\n",
       "2020-01-07  1.034515\n",
       "2020-01-08  1.033275\n",
       "2020-01-09  1.037310"
      ]
     },
     "execution_count": 11,
     "metadata": {},
     "output_type": "execute_result"
    }
   ],
   "source": [
    "ohlc = ohlc.drop(('mid', 'open'), 1)\n",
    "ohlc = ohlc.drop(('mid', 'high'), 1)\n",
    "ohlc = ohlc.drop(('mid', 'low'), 1)\n",
    "ohlc.head()"
   ]
  },
  {
   "cell_type": "code",
   "execution_count": 12,
   "id": "9bef6f59-e535-42c0-82ce-b4b1f87489f5",
   "metadata": {},
   "outputs": [
    {
     "data": {
      "text/html": [
       "<div>\n",
       "<style scoped>\n",
       "    .dataframe tbody tr th:only-of-type {\n",
       "        vertical-align: middle;\n",
       "    }\n",
       "\n",
       "    .dataframe tbody tr th {\n",
       "        vertical-align: top;\n",
       "    }\n",
       "\n",
       "    .dataframe thead tr th {\n",
       "        text-align: left;\n",
       "    }\n",
       "\n",
       "    .dataframe thead tr:last-of-type th {\n",
       "        text-align: right;\n",
       "    }\n",
       "</style>\n",
       "<table border=\"1\" class=\"dataframe\">\n",
       "  <thead>\n",
       "    <tr>\n",
       "      <th></th>\n",
       "      <th>mid</th>\n",
       "    </tr>\n",
       "    <tr>\n",
       "      <th></th>\n",
       "      <th>close</th>\n",
       "    </tr>\n",
       "    <tr>\n",
       "      <th>DateTime</th>\n",
       "      <th></th>\n",
       "    </tr>\n",
       "  </thead>\n",
       "  <tbody>\n",
       "    <tr>\n",
       "      <th>2020-01-05</th>\n",
       "      <td>NaN</td>\n",
       "    </tr>\n",
       "    <tr>\n",
       "      <th>2020-01-06</th>\n",
       "      <td>-0.003052</td>\n",
       "    </tr>\n",
       "    <tr>\n",
       "      <th>2020-01-07</th>\n",
       "      <td>-0.005561</td>\n",
       "    </tr>\n",
       "    <tr>\n",
       "      <th>2020-01-08</th>\n",
       "      <td>-0.001199</td>\n",
       "    </tr>\n",
       "    <tr>\n",
       "      <th>2020-01-09</th>\n",
       "      <td>0.003905</td>\n",
       "    </tr>\n",
       "  </tbody>\n",
       "</table>\n",
       "</div>"
      ],
      "text/plain": [
       "                 mid\n",
       "               close\n",
       "DateTime            \n",
       "2020-01-05       NaN\n",
       "2020-01-06 -0.003052\n",
       "2020-01-07 -0.005561\n",
       "2020-01-08 -0.001199\n",
       "2020-01-09  0.003905"
      ]
     },
     "execution_count": 12,
     "metadata": {},
     "output_type": "execute_result"
    }
   ],
   "source": [
    "daily_return = ohlc.pct_change(1)\n",
    "# df.shift(1) / df - 1\n",
    "# prices[:-1] / prices[1:].values - 1\n",
    "daily_return.head()"
   ]
  },
  {
   "cell_type": "code",
   "execution_count": 13,
   "id": "7c207788-d31a-4eb1-9b3f-140018c8abde",
   "metadata": {},
   "outputs": [
    {
     "data": {
      "text/html": [
       "<div>\n",
       "<style scoped>\n",
       "    .dataframe tbody tr th:only-of-type {\n",
       "        vertical-align: middle;\n",
       "    }\n",
       "\n",
       "    .dataframe tbody tr th {\n",
       "        vertical-align: top;\n",
       "    }\n",
       "\n",
       "    .dataframe thead tr th {\n",
       "        text-align: left;\n",
       "    }\n",
       "\n",
       "    .dataframe thead tr:last-of-type th {\n",
       "        text-align: right;\n",
       "    }\n",
       "</style>\n",
       "<table border=\"1\" class=\"dataframe\">\n",
       "  <thead>\n",
       "    <tr>\n",
       "      <th></th>\n",
       "      <th>mid</th>\n",
       "    </tr>\n",
       "    <tr>\n",
       "      <th></th>\n",
       "      <th>close</th>\n",
       "    </tr>\n",
       "    <tr>\n",
       "      <th>DateTime</th>\n",
       "      <th></th>\n",
       "    </tr>\n",
       "  </thead>\n",
       "  <tbody>\n",
       "    <tr>\n",
       "      <th>2020-01-05</th>\n",
       "      <td>NaN</td>\n",
       "    </tr>\n",
       "    <tr>\n",
       "      <th>2020-01-06</th>\n",
       "      <td>-0.003052</td>\n",
       "    </tr>\n",
       "    <tr>\n",
       "      <th>2020-01-07</th>\n",
       "      <td>-0.005561</td>\n",
       "    </tr>\n",
       "    <tr>\n",
       "      <th>2020-01-08</th>\n",
       "      <td>-0.001199</td>\n",
       "    </tr>\n",
       "    <tr>\n",
       "      <th>2020-01-09</th>\n",
       "      <td>0.003905</td>\n",
       "    </tr>\n",
       "  </tbody>\n",
       "</table>\n",
       "</div>"
      ],
      "text/plain": [
       "                 mid\n",
       "               close\n",
       "DateTime            \n",
       "2020-01-05       NaN\n",
       "2020-01-06 -0.003052\n",
       "2020-01-07 -0.005561\n",
       "2020-01-08 -0.001199\n",
       "2020-01-09  0.003905"
      ]
     },
     "execution_count": 13,
     "metadata": {},
     "output_type": "execute_result"
    }
   ],
   "source": [
    "daily_return.head()"
   ]
  },
  {
   "cell_type": "code",
   "execution_count": 14,
   "id": "7b428867-3ef5-4dfe-888b-c316ca70109c",
   "metadata": {},
   "outputs": [
    {
     "data": {
      "text/html": [
       "<div>\n",
       "<style scoped>\n",
       "    .dataframe tbody tr th:only-of-type {\n",
       "        vertical-align: middle;\n",
       "    }\n",
       "\n",
       "    .dataframe tbody tr th {\n",
       "        vertical-align: top;\n",
       "    }\n",
       "\n",
       "    .dataframe thead tr th {\n",
       "        text-align: left;\n",
       "    }\n",
       "</style>\n",
       "<table border=\"1\" class=\"dataframe\">\n",
       "  <thead>\n",
       "    <tr>\n",
       "      <th></th>\n",
       "      <th>mid</th>\n",
       "    </tr>\n",
       "    <tr>\n",
       "      <th></th>\n",
       "      <th>close</th>\n",
       "    </tr>\n",
       "  </thead>\n",
       "  <tbody>\n",
       "    <tr>\n",
       "      <th>count</th>\n",
       "      <td>61.000000</td>\n",
       "    </tr>\n",
       "    <tr>\n",
       "      <th>mean</th>\n",
       "      <td>0.000036</td>\n",
       "    </tr>\n",
       "    <tr>\n",
       "      <th>std</th>\n",
       "      <td>0.002360</td>\n",
       "    </tr>\n",
       "    <tr>\n",
       "      <th>min</th>\n",
       "      <td>-0.007027</td>\n",
       "    </tr>\n",
       "    <tr>\n",
       "      <th>25%</th>\n",
       "      <td>-0.001170</td>\n",
       "    </tr>\n",
       "    <tr>\n",
       "      <th>50%</th>\n",
       "      <td>0.000000</td>\n",
       "    </tr>\n",
       "    <tr>\n",
       "      <th>75%</th>\n",
       "      <td>0.001491</td>\n",
       "    </tr>\n",
       "    <tr>\n",
       "      <th>max</th>\n",
       "      <td>0.004644</td>\n",
       "    </tr>\n",
       "  </tbody>\n",
       "</table>\n",
       "</div>"
      ],
      "text/plain": [
       "             mid\n",
       "           close\n",
       "count  61.000000\n",
       "mean    0.000036\n",
       "std     0.002360\n",
       "min    -0.007027\n",
       "25%    -0.001170\n",
       "50%     0.000000\n",
       "75%     0.001491\n",
       "max     0.004644"
      ]
     },
     "execution_count": 14,
     "metadata": {},
     "output_type": "execute_result"
    }
   ],
   "source": [
    "daily_return.describe()"
   ]
  },
  {
   "cell_type": "code",
   "execution_count": 16,
   "id": "6476d6e1-93b3-4821-aae9-8d69a58564ea",
   "metadata": {},
   "outputs": [
    {
     "data": {
      "text/plain": [
       "<AxesSubplot:xlabel='DateTime'>"
      ]
     },
     "execution_count": 16,
     "metadata": {},
     "output_type": "execute_result"
    },
    {
     "data": {
      "image/png": "[encoded data removed]",
      "text/plain": [
       "<Figure size 432x288 with 1 Axes>"
      ]
     },
     "metadata": {
      "needs_background": "light"
     },
     "output_type": "display_data"
    }
   ],
   "source": [
    "# plot ohlc data\n",
    "ohlc.plot(y=('mid', 'close'))"
   ]
  },
  {
   "cell_type": "code",
   "execution_count": 17,
   "id": "49da46ea-410d-4424-acce-2932570a5f9f",
   "metadata": {},
   "outputs": [
    {
     "name": "stdout",
     "output_type": "stream",
     "text": [
      "<class 'pandas.core.frame.DataFrame'>\n",
      "DatetimeIndex: 62 entries, 2020-01-05 to 2020-03-06\n",
      "Freq: D\n",
      "Data columns (total 1 columns):\n",
      " #   Column        Non-Null Count  Dtype  \n",
      "---  ------        --------------  -----  \n",
      " 0   (mid, close)  54 non-null     float64\n",
      "dtypes: float64(1)\n",
      "memory usage: 992.0 bytes\n"
     ]
    }
   ],
   "source": [
    "ohlc.info()"
   ]
  },
  {
   "cell_type": "code",
   "execution_count": 18,
   "id": "678db713-4d62-408f-a30b-65aca2789124",
   "metadata": {},
   "outputs": [
    {
     "data": {
      "text/plain": [
       "<AxesSubplot:xlabel='DateTime'>"
      ]
     },
     "execution_count": 18,
     "metadata": {},
     "output_type": "execute_result"
    },
    {
     "data": {
      "image/png": "[encoded data removed]",
      "text/plain": [
       "<Figure size 432x288 with 1 Axes>"
      ]
     },
     "metadata": {
      "needs_background": "light"
     },
     "output_type": "display_data"
    }
   ],
   "source": [
    "# plot daily returns\n",
    "daily_return.plot(y=('mid', 'close'))"
   ]
  },
  {
   "cell_type": "code",
   "execution_count": 19,
   "id": "09f684dd-ac19-49e2-85d6-f7214690c1d0",
   "metadata": {},
   "outputs": [
    {
     "name": "stdout",
     "output_type": "stream",
     "text": [
      "                 mid\n",
      "               close\n",
      "DateTime            \n",
      "2020-01-09  1.037310\n",
      "2020-01-10  1.039990\n",
      "2020-01-11       NaN\n",
      "2020-01-12  1.039615\n",
      "2020-01-13  1.041165\n",
      "2020-01-14  1.043595\n",
      "2020-01-15  1.043535\n",
      "2020-01-16  1.039330\n",
      "2020-01-17  1.039670\n",
      "2020-01-18       NaN\n",
      "2020-01-19  1.039730\n",
      "2020-01-20  1.040675\n",
      "2020-01-21  1.038250\n",
      "2020-01-22  1.037440\n"
     ]
    }
   ],
   "source": [
    "# get specific date range\n",
    "print(ohlc.loc['2020-1-9':'2020-1-22'])"
   ]
  },
  {
   "cell_type": "code",
   "execution_count": 23,
   "id": "1d9d7a63-b432-4add-884b-854cb1bf2b4d",
   "metadata": {},
   "outputs": [
    {
     "data": {
      "text/plain": [
       "1.03731"
      ]
     },
     "execution_count": 23,
     "metadata": {},
     "output_type": "execute_result"
    }
   ],
   "source": [
    "# get specific datapoint\n",
    "ohlc.loc['2020-1-9', ('mid', 'close')]"
   ]
  },
  {
   "cell_type": "code",
   "execution_count": 22,
   "id": "de9e58ed-757a-401a-8665-3606d81dd1d1",
   "metadata": {},
   "outputs": [
    {
     "data": {
      "text/html": [
       "<div>\n",
       "<style scoped>\n",
       "    .dataframe tbody tr th:only-of-type {\n",
       "        vertical-align: middle;\n",
       "    }\n",
       "\n",
       "    .dataframe tbody tr th {\n",
       "        vertical-align: top;\n",
       "    }\n",
       "\n",
       "    .dataframe thead th {\n",
       "        text-align: right;\n",
       "    }\n",
       "</style>\n",
       "<table border=\"1\" class=\"dataframe\">\n",
       "  <thead>\n",
       "    <tr style=\"text-align: right;\">\n",
       "      <th></th>\n",
       "      <th>mid</th>\n",
       "    </tr>\n",
       "    <tr>\n",
       "      <th>DateTime</th>\n",
       "      <th></th>\n",
       "    </tr>\n",
       "  </thead>\n",
       "  <tbody>\n",
       "    <tr>\n",
       "      <th>2020-01-23 00:00:00.039</th>\n",
       "      <td>1.037430</td>\n",
       "    </tr>\n",
       "    <tr>\n",
       "      <th>2020-01-23 00:00:00.055</th>\n",
       "      <td>1.037410</td>\n",
       "    </tr>\n",
       "    <tr>\n",
       "      <th>2020-01-23 00:00:00.164</th>\n",
       "      <td>1.037400</td>\n",
       "    </tr>\n",
       "    <tr>\n",
       "      <th>2020-01-23 00:00:00.342</th>\n",
       "      <td>1.037410</td>\n",
       "    </tr>\n",
       "    <tr>\n",
       "      <th>2020-01-23 00:00:00.345</th>\n",
       "      <td>1.037415</td>\n",
       "    </tr>\n",
       "    <tr>\n",
       "      <th>...</th>\n",
       "      <td>...</td>\n",
       "    </tr>\n",
       "    <tr>\n",
       "      <th>2020-01-27 23:59:48.755</th>\n",
       "      <td>1.033175</td>\n",
       "    </tr>\n",
       "    <tr>\n",
       "      <th>2020-01-27 23:59:48.756</th>\n",
       "      <td>1.033180</td>\n",
       "    </tr>\n",
       "    <tr>\n",
       "      <th>2020-01-27 23:59:56.416</th>\n",
       "      <td>1.033175</td>\n",
       "    </tr>\n",
       "    <tr>\n",
       "      <th>2020-01-27 23:59:56.701</th>\n",
       "      <td>1.033180</td>\n",
       "    </tr>\n",
       "    <tr>\n",
       "      <th>2020-01-27 23:59:58.957</th>\n",
       "      <td>1.033185</td>\n",
       "    </tr>\n",
       "  </tbody>\n",
       "</table>\n",
       "<p>558604 rows × 1 columns</p>\n",
       "</div>"
      ],
      "text/plain": [
       "                              mid\n",
       "DateTime                         \n",
       "2020-01-23 00:00:00.039  1.037430\n",
       "2020-01-23 00:00:00.055  1.037410\n",
       "2020-01-23 00:00:00.164  1.037400\n",
       "2020-01-23 00:00:00.342  1.037410\n",
       "2020-01-23 00:00:00.345  1.037415\n",
       "...                           ...\n",
       "2020-01-27 23:59:48.755  1.033175\n",
       "2020-01-27 23:59:48.756  1.033180\n",
       "2020-01-27 23:59:56.416  1.033175\n",
       "2020-01-27 23:59:56.701  1.033180\n",
       "2020-01-27 23:59:58.957  1.033185\n",
       "\n",
       "[558604 rows x 1 columns]"
      ]
     },
     "execution_count": 22,
     "metadata": {},
     "output_type": "execute_result"
    }
   ],
   "source": [
    "new_day = df.loc['2020-1-23':'2020-1-27']\n",
    "new_day"
   ]
  },
  {
   "cell_type": "code",
   "execution_count": 25,
   "id": "dd1bf852-10c1-45bd-b443-6fb455009743",
   "metadata": {},
   "outputs": [
    {
     "data": {
      "text/plain": [
       "<AxesSubplot:xlabel='DateTime'>"
      ]
     },
     "execution_count": 25,
     "metadata": {},
     "output_type": "execute_result"
    },
    {
     "data": {
      "image/png": "[encoded data removed]",
      "text/plain": [
       "<Figure size 432x288 with 1 Axes>"
      ]
     },
     "metadata": {
      "needs_background": "light"
     },
     "output_type": "display_data"
    }
   ],
   "source": [
    "new_day.plot(y='mid')"
   ]
  },
  {
   "cell_type": "code",
   "execution_count": 28,
   "id": "7c60a8c1-b912-4370-a3ff-6e091ea105ab",
   "metadata": {},
   "outputs": [
    {
     "data": {
      "text/html": [
       "<div>\n",
       "<style scoped>\n",
       "    .dataframe tbody tr th:only-of-type {\n",
       "        vertical-align: middle;\n",
       "    }\n",
       "\n",
       "    .dataframe tbody tr th {\n",
       "        vertical-align: top;\n",
       "    }\n",
       "\n",
       "    .dataframe thead th {\n",
       "        text-align: right;\n",
       "    }\n",
       "</style>\n",
       "<table border=\"1\" class=\"dataframe\">\n",
       "  <thead>\n",
       "    <tr style=\"text-align: right;\">\n",
       "      <th></th>\n",
       "      <th>time</th>\n",
       "      <th>pos</th>\n",
       "      <th>pnl</th>\n",
       "      <th>price</th>\n",
       "    </tr>\n",
       "  </thead>\n",
       "  <tbody>\n",
       "    <tr>\n",
       "      <th>0</th>\n",
       "      <td>2021-11-07 21:18:30.101424</td>\n",
       "      <td>0.000000</td>\n",
       "      <td>0.0</td>\n",
       "      <td>1.037430</td>\n",
       "    </tr>\n",
       "    <tr>\n",
       "      <th>1</th>\n",
       "      <td>2021-11-07 21:18:30.102454</td>\n",
       "      <td>0.000000</td>\n",
       "      <td>0.0</td>\n",
       "      <td>1.037410</td>\n",
       "    </tr>\n",
       "    <tr>\n",
       "      <th>2</th>\n",
       "      <td>2021-11-07 21:18:30.104193</td>\n",
       "      <td>0.000000</td>\n",
       "      <td>0.0</td>\n",
       "      <td>1.037400</td>\n",
       "    </tr>\n",
       "    <tr>\n",
       "      <th>3</th>\n",
       "      <td>2021-11-07 21:18:30.105452</td>\n",
       "      <td>0.000000</td>\n",
       "      <td>0.0</td>\n",
       "      <td>1.037410</td>\n",
       "    </tr>\n",
       "    <tr>\n",
       "      <th>4</th>\n",
       "      <td>2021-11-07 21:18:30.109779</td>\n",
       "      <td>0.000000</td>\n",
       "      <td>0.0</td>\n",
       "      <td>1.037415</td>\n",
       "    </tr>\n",
       "    <tr>\n",
       "      <th>...</th>\n",
       "      <td>...</td>\n",
       "      <td>...</td>\n",
       "      <td>...</td>\n",
       "      <td>...</td>\n",
       "    </tr>\n",
       "    <tr>\n",
       "      <th>200689</th>\n",
       "      <td>2021-11-07 21:39:20.279156</td>\n",
       "      <td>198.344650</td>\n",
       "      <td>20000.0</td>\n",
       "      <td>1.034795</td>\n",
       "    </tr>\n",
       "    <tr>\n",
       "      <th>200690</th>\n",
       "      <td>2021-11-07 21:39:20.294970</td>\n",
       "      <td>198.442246</td>\n",
       "      <td>20000.0</td>\n",
       "      <td>1.034800</td>\n",
       "    </tr>\n",
       "    <tr>\n",
       "      <th>200691</th>\n",
       "      <td>2021-11-07 21:39:20.320001</td>\n",
       "      <td>198.344650</td>\n",
       "      <td>20000.0</td>\n",
       "      <td>1.034795</td>\n",
       "    </tr>\n",
       "    <tr>\n",
       "      <th>200692</th>\n",
       "      <td>2021-11-07 21:39:20.336417</td>\n",
       "      <td>197.954267</td>\n",
       "      <td>20000.0</td>\n",
       "      <td>1.034775</td>\n",
       "    </tr>\n",
       "    <tr>\n",
       "      <th>200693</th>\n",
       "      <td>2021-11-07 21:39:20.344224</td>\n",
       "      <td>198.247054</td>\n",
       "      <td>20000.0</td>\n",
       "      <td>1.034790</td>\n",
       "    </tr>\n",
       "  </tbody>\n",
       "</table>\n",
       "<p>200694 rows × 4 columns</p>\n",
       "</div>"
      ],
      "text/plain": [
       "                             time         pos      pnl     price\n",
       "0      2021-11-07 21:18:30.101424    0.000000      0.0  1.037430\n",
       "1      2021-11-07 21:18:30.102454    0.000000      0.0  1.037410\n",
       "2      2021-11-07 21:18:30.104193    0.000000      0.0  1.037400\n",
       "3      2021-11-07 21:18:30.105452    0.000000      0.0  1.037410\n",
       "4      2021-11-07 21:18:30.109779    0.000000      0.0  1.037415\n",
       "...                           ...         ...      ...       ...\n",
       "200689 2021-11-07 21:39:20.279156  198.344650  20000.0  1.034795\n",
       "200690 2021-11-07 21:39:20.294970  198.442246  20000.0  1.034800\n",
       "200691 2021-11-07 21:39:20.320001  198.344650  20000.0  1.034795\n",
       "200692 2021-11-07 21:39:20.336417  197.954267  20000.0  1.034775\n",
       "200693 2021-11-07 21:39:20.344224  198.247054  20000.0  1.034790\n",
       "\n",
       "[200694 rows x 4 columns]"
      ]
     },
     "execution_count": 28,
     "metadata": {},
     "output_type": "execute_result"
    }
   ],
   "source": [
    "directory = \"../Data/Pickles/example_simulation.pkl\"\n",
    "df_from_pickle = pd.read_pickle(directory)\n",
    "df_from_pickle"
   ]
  },
  {
   "cell_type": "code",
   "execution_count": 29,
   "id": "382e6f69-aa37-408e-842a-abab192f9e91",
   "metadata": {},
   "outputs": [
    {
     "data": {
      "text/plain": [
       "<AxesSubplot:>"
      ]
     },
     "execution_count": 29,
     "metadata": {},
     "output_type": "execute_result"
    },
    {
     "data": {
      "image/png": "[encoded data removed]",
      "text/plain": [
       "<Figure size 432x288 with 1 Axes>"
      ]
     },
     "metadata": {
      "needs_background": "light"
     },
     "output_type": "display_data"
    }
   ],
   "source": [
    "df_from_pickle.plot(y='pos')"
   ]
  }
 ],
 "metadata": {
  "kernelspec": {
   "display_name": "Python 3 (ipykernel)",
   "language": "python",
   "name": "python3"
  },
  "language_info": {
   "codemirror_mode": {
    "name": "ipython",
    "version": 3
   },
   "file_extension": ".py",
   "mimetype": "text/x-python",
   "name": "python",
   "nbconvert_exporter": "python",
   "pygments_lexer": "ipython3",
   "version": "3.8.1"
  }
 },
 "nbformat": 4,
 "nbformat_minor": 5
}
